{
 "cells": [
  {
   "cell_type": "code",
   "execution_count": null,
   "id": "bd4c6eb1",
   "metadata": {
    "vscode": {
     "languageId": "plaintext"
    }
   },
   "outputs": [],
   "source": [
    "class Env():\n",
    "    # Observation -> [image_emb, crop_emb, question_embd]\n",
    "    def __init__(self, vlm, images, question, steps=100):\n",
    "        self.vlm = vlm()\n",
    "        self.images = images\n",
    "        self.image = None\n",
    "        self.original_img = None\n",
    "        self.action_space = Discrete(2)\n",
    "\n",
    "        self.reset()\n",
    "\n",
    "    def step(action, **kwargs):\n",
    "        if action == \"z\":\n",
    "            bbox = kwargs.get(\"bbox\")\n",
    "\n",
    "        elif action == \"r\":\n",
    "            return None\n",
    "\n",
    "    def reset(self):\n",
    "        self.idx = random.randint(0, len(images))\n",
    "        self.image = self.images[idx]\n",
    "        self.original_img = self.images[idx]"
   ]
  },
  {
   "cell_type": "code",
   "execution_count": null,
   "id": "96b060cc",
   "metadata": {
    "vscode": {
     "languageId": "plaintext"
    }
   },
   "outputs": [],
   "source": [
    "class V_QAgent():\n",
    "    def __init__(self, actor, critic):\n",
    "        super().__init__()\n",
    "        self.actor = actor\n",
    "        self.critic = critic\n",
    "\n",
    "    def forward(self, state):\n",
    "        action = actor(state)\n",
    "        value = critic(state)\n",
    "        return action, value"
   ]
  },
  {
   "cell_type": "code",
   "execution_count": null,
   "id": "6014b8fc",
   "metadata": {
    "vscode": {
     "languageId": "plaintext"
    }
   },
   "outputs": [],
   "source": [
    "class Backbone(nn.Module):\n",
    "    def __init__(self, input_dim, hidden_dim, output_dim, dropout=0.2):\n",
    "        super().__init__()\n",
    "        self.layer1 = nn.Linear(input_dim, hidden_dim)\n",
    "        self.layer2 = nn.Linear(hidden_dim, hidden_dim)\n",
    "        self.layer3 = nn.Linead(hidden_dim, output_dim)\n",
    "        self.dropout = nn.Droupout(dropout)\n",
    "\n",
    "    def forward(self, x):\n",
    "        x = F.Relu(self.linear1(x))\n",
    "        x = self.dropout(x)\n",
    "\n",
    "        x = F.Relu(self.linear2(x))\n",
    "        x = self.dropout(x)\n",
    "\n",
    "        return F.Relu(self.linear3(x))"
   ]
  },
  {
   "cell_type": "code",
   "execution_count": null,
   "id": "c7e042a1",
   "metadata": {
    "vscode": {
     "languageId": "plaintext"
    }
   },
   "outputs": [],
   "source": [
    "# hyperparameters\n",
    "max_steps = 10\n",
    "lr = 1e-3\n",
    "img_embed_dim = 4096 * 128_256\n",
    "text_embed_dim = 4096 * 128_256"
   ]
  },
  {
   "cell_type": "code",
   "execution_count": null,
   "id": "ed454c63",
   "metadata": {
    "vscode": {
     "languageId": "plaintext"
    }
   },
   "outputs": [],
   "source": [
    "actor = Backbone()\n",
    "critic = Backbone()\n",
    "\n",
    "katAgent = V_QAgent(actor, critic)"
   ]
  }
 ],
 "metadata": {
  "language_info": {
   "name": "python"
  }
 },
 "nbformat": 4,
 "nbformat_minor": 5
}
